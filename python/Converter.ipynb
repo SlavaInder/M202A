{
 "cells": [
  {
   "cell_type": "code",
   "execution_count": 1,
   "metadata": {},
   "outputs": [],
   "source": [
    "class converter:\n",
    "    # here H is a frequency,\n",
    "    #      l is a number of samples in segment (~20) \n",
    "    #      L is a number of segments in window (~10),\n",
    "    # i.e. window consists of L * l samples and takes t = L * l / H [seconds]\n",
    "    def __init__(self, l, L, freq, **kwargs):\n",
    "        self.l = l\n",
    "        self.L = L\n",
    "        self.H = H\n",
    "        \n",
    "    # this method gets a list \"window\" consisting of l * L samples\n",
    "    # from float[-1, 1] for 1 EMG channel and returns their mean value\n",
    "    def get_M(self, window):\n",
    "        M = 0\n",
    "        return M"
   ]
  }
 ],
 "metadata": {
  "kernelspec": {
   "display_name": "Python 3",
   "language": "python",
   "name": "python3"
  },
  "language_info": {
   "codemirror_mode": {
    "name": "ipython",
    "version": 3
   },
   "file_extension": ".py",
   "mimetype": "text/x-python",
   "name": "python",
   "nbconvert_exporter": "python",
   "pygments_lexer": "ipython3",
   "version": "3.7.4"
  }
 },
 "nbformat": 4,
 "nbformat_minor": 2
}
